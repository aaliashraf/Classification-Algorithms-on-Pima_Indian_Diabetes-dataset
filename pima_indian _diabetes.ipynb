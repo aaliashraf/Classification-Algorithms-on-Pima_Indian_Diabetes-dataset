{
  "nbformat": 4,
  "nbformat_minor": 0,
  "metadata": {
    "kernelspec": {
      "display_name": "Python 3.7.4 32-bit",
      "language": "python",
      "name": "python37432bitd36c6a90078e485f856bc2560ae48b93"
    },
    "language_info": {
      "codemirror_mode": {
        "name": "ipython",
        "version": 3
      },
      "file_extension": ".py",
      "mimetype": "text/x-python",
      "name": "python",
      "nbconvert_exporter": "python",
      "pygments_lexer": "ipython3",
      "version": "3.7.4"
    },
    "colab": {
      "name": "pima_indian.ipynb",
      "provenance": []
    }
  },
  "cells": [
    {
      "cell_type": "code",
      "metadata": {
        "id": "nvPB8xEe0uU8"
      },
      "source": [
        "\n"
      ],
      "execution_count": 8,
      "outputs": []
    },
    {
      "cell_type": "code",
      "metadata": {
        "id": "1nVxc_eh0uVU"
      },
      "source": [
        "import pandas as pd\n",
        "import numpy as np\n",
        "from sklearn.model_selection import train_test_split\n",
        "from sklearn.naive_bayes import GaussianNB\n",
        "from sklearn import metrics\n",
        "from sklearn.neighbors import KNeighborsClassifier\n",
        "from sklearn import tree\n",
        "from sklearn.linear_model import LogisticRegression\n",
        "from sklearn.discriminant_analysis import LinearDiscriminantAnalysis\n",
        "import matplotlib.pyplot as plt  \n",
        "from sklearn.metrics import plot_confusion_matrix\n",
        "from sklearn.metrics import average_precision_score"
      ],
      "execution_count": 40,
      "outputs": []
    },
    {
      "cell_type": "code",
      "metadata": {
        "colab": {
          "base_uri": "https://localhost:8080/",
          "height": 204
        },
        "id": "68tlykrZ0uVX",
        "outputId": "183e48ff-2a06-4054-9b0b-640d3d0f2724"
      },
      "source": [
        "## load dataset\n",
        "df=pd.read_csv(r'/content/diabetes.csv')\n",
        "df.head()"
      ],
      "execution_count": 10,
      "outputs": [
        {
          "output_type": "execute_result",
          "data": {
            "text/html": [
              "<div>\n",
              "<style scoped>\n",
              "    .dataframe tbody tr th:only-of-type {\n",
              "        vertical-align: middle;\n",
              "    }\n",
              "\n",
              "    .dataframe tbody tr th {\n",
              "        vertical-align: top;\n",
              "    }\n",
              "\n",
              "    .dataframe thead th {\n",
              "        text-align: right;\n",
              "    }\n",
              "</style>\n",
              "<table border=\"1\" class=\"dataframe\">\n",
              "  <thead>\n",
              "    <tr style=\"text-align: right;\">\n",
              "      <th></th>\n",
              "      <th>Pregnancies</th>\n",
              "      <th>Glucose</th>\n",
              "      <th>BloodPressure</th>\n",
              "      <th>SkinThickness</th>\n",
              "      <th>Insulin</th>\n",
              "      <th>BMI</th>\n",
              "      <th>DiabetesPedigreeFunction</th>\n",
              "      <th>Age</th>\n",
              "      <th>Outcome</th>\n",
              "    </tr>\n",
              "  </thead>\n",
              "  <tbody>\n",
              "    <tr>\n",
              "      <th>0</th>\n",
              "      <td>6</td>\n",
              "      <td>148</td>\n",
              "      <td>72</td>\n",
              "      <td>35</td>\n",
              "      <td>0</td>\n",
              "      <td>33.6</td>\n",
              "      <td>0.627</td>\n",
              "      <td>50</td>\n",
              "      <td>1</td>\n",
              "    </tr>\n",
              "    <tr>\n",
              "      <th>1</th>\n",
              "      <td>1</td>\n",
              "      <td>85</td>\n",
              "      <td>66</td>\n",
              "      <td>29</td>\n",
              "      <td>0</td>\n",
              "      <td>26.6</td>\n",
              "      <td>0.351</td>\n",
              "      <td>31</td>\n",
              "      <td>0</td>\n",
              "    </tr>\n",
              "    <tr>\n",
              "      <th>2</th>\n",
              "      <td>8</td>\n",
              "      <td>183</td>\n",
              "      <td>64</td>\n",
              "      <td>0</td>\n",
              "      <td>0</td>\n",
              "      <td>23.3</td>\n",
              "      <td>0.672</td>\n",
              "      <td>32</td>\n",
              "      <td>1</td>\n",
              "    </tr>\n",
              "    <tr>\n",
              "      <th>3</th>\n",
              "      <td>1</td>\n",
              "      <td>89</td>\n",
              "      <td>66</td>\n",
              "      <td>23</td>\n",
              "      <td>94</td>\n",
              "      <td>28.1</td>\n",
              "      <td>0.167</td>\n",
              "      <td>21</td>\n",
              "      <td>0</td>\n",
              "    </tr>\n",
              "    <tr>\n",
              "      <th>4</th>\n",
              "      <td>0</td>\n",
              "      <td>137</td>\n",
              "      <td>40</td>\n",
              "      <td>35</td>\n",
              "      <td>168</td>\n",
              "      <td>43.1</td>\n",
              "      <td>2.288</td>\n",
              "      <td>33</td>\n",
              "      <td>1</td>\n",
              "    </tr>\n",
              "  </tbody>\n",
              "</table>\n",
              "</div>"
            ],
            "text/plain": [
              "   Pregnancies  Glucose  BloodPressure  ...  DiabetesPedigreeFunction  Age  Outcome\n",
              "0            6      148             72  ...                     0.627   50        1\n",
              "1            1       85             66  ...                     0.351   31        0\n",
              "2            8      183             64  ...                     0.672   32        1\n",
              "3            1       89             66  ...                     0.167   21        0\n",
              "4            0      137             40  ...                     2.288   33        1\n",
              "\n",
              "[5 rows x 9 columns]"
            ]
          },
          "metadata": {
            "tags": []
          },
          "execution_count": 10
        }
      ]
    },
    {
      "cell_type": "code",
      "metadata": {
        "colab": {
          "base_uri": "https://localhost:8080/",
          "height": 314
        },
        "id": "ICj42Oqh0uVa",
        "outputId": "50c762f2-e862-431c-9c2f-280202264d4f"
      },
      "source": [
        "## statistic of dataset\n",
        "diabetes=df[df['Outcome']==1].shape\n",
        "non_diabetes=df[df['Outcome']==0].shape\n",
        "print(\"Has Diabeties {}, Does not have Diabetes {}\".format(diabetes,non_diabetes))\n",
        "df.describe()"
      ],
      "execution_count": 11,
      "outputs": [
        {
          "output_type": "stream",
          "text": [
            "Has Diabeties (268, 9), Does not have Diabetes (500, 9)\n"
          ],
          "name": "stdout"
        },
        {
          "output_type": "execute_result",
          "data": {
            "text/html": [
              "<div>\n",
              "<style scoped>\n",
              "    .dataframe tbody tr th:only-of-type {\n",
              "        vertical-align: middle;\n",
              "    }\n",
              "\n",
              "    .dataframe tbody tr th {\n",
              "        vertical-align: top;\n",
              "    }\n",
              "\n",
              "    .dataframe thead th {\n",
              "        text-align: right;\n",
              "    }\n",
              "</style>\n",
              "<table border=\"1\" class=\"dataframe\">\n",
              "  <thead>\n",
              "    <tr style=\"text-align: right;\">\n",
              "      <th></th>\n",
              "      <th>Pregnancies</th>\n",
              "      <th>Glucose</th>\n",
              "      <th>BloodPressure</th>\n",
              "      <th>SkinThickness</th>\n",
              "      <th>Insulin</th>\n",
              "      <th>BMI</th>\n",
              "      <th>DiabetesPedigreeFunction</th>\n",
              "      <th>Age</th>\n",
              "      <th>Outcome</th>\n",
              "    </tr>\n",
              "  </thead>\n",
              "  <tbody>\n",
              "    <tr>\n",
              "      <th>count</th>\n",
              "      <td>768.000000</td>\n",
              "      <td>768.000000</td>\n",
              "      <td>768.000000</td>\n",
              "      <td>768.000000</td>\n",
              "      <td>768.000000</td>\n",
              "      <td>768.000000</td>\n",
              "      <td>768.000000</td>\n",
              "      <td>768.000000</td>\n",
              "      <td>768.000000</td>\n",
              "    </tr>\n",
              "    <tr>\n",
              "      <th>mean</th>\n",
              "      <td>3.845052</td>\n",
              "      <td>120.894531</td>\n",
              "      <td>69.105469</td>\n",
              "      <td>20.536458</td>\n",
              "      <td>79.799479</td>\n",
              "      <td>31.992578</td>\n",
              "      <td>0.471876</td>\n",
              "      <td>33.240885</td>\n",
              "      <td>0.348958</td>\n",
              "    </tr>\n",
              "    <tr>\n",
              "      <th>std</th>\n",
              "      <td>3.369578</td>\n",
              "      <td>31.972618</td>\n",
              "      <td>19.355807</td>\n",
              "      <td>15.952218</td>\n",
              "      <td>115.244002</td>\n",
              "      <td>7.884160</td>\n",
              "      <td>0.331329</td>\n",
              "      <td>11.760232</td>\n",
              "      <td>0.476951</td>\n",
              "    </tr>\n",
              "    <tr>\n",
              "      <th>min</th>\n",
              "      <td>0.000000</td>\n",
              "      <td>0.000000</td>\n",
              "      <td>0.000000</td>\n",
              "      <td>0.000000</td>\n",
              "      <td>0.000000</td>\n",
              "      <td>0.000000</td>\n",
              "      <td>0.078000</td>\n",
              "      <td>21.000000</td>\n",
              "      <td>0.000000</td>\n",
              "    </tr>\n",
              "    <tr>\n",
              "      <th>25%</th>\n",
              "      <td>1.000000</td>\n",
              "      <td>99.000000</td>\n",
              "      <td>62.000000</td>\n",
              "      <td>0.000000</td>\n",
              "      <td>0.000000</td>\n",
              "      <td>27.300000</td>\n",
              "      <td>0.243750</td>\n",
              "      <td>24.000000</td>\n",
              "      <td>0.000000</td>\n",
              "    </tr>\n",
              "    <tr>\n",
              "      <th>50%</th>\n",
              "      <td>3.000000</td>\n",
              "      <td>117.000000</td>\n",
              "      <td>72.000000</td>\n",
              "      <td>23.000000</td>\n",
              "      <td>30.500000</td>\n",
              "      <td>32.000000</td>\n",
              "      <td>0.372500</td>\n",
              "      <td>29.000000</td>\n",
              "      <td>0.000000</td>\n",
              "    </tr>\n",
              "    <tr>\n",
              "      <th>75%</th>\n",
              "      <td>6.000000</td>\n",
              "      <td>140.250000</td>\n",
              "      <td>80.000000</td>\n",
              "      <td>32.000000</td>\n",
              "      <td>127.250000</td>\n",
              "      <td>36.600000</td>\n",
              "      <td>0.626250</td>\n",
              "      <td>41.000000</td>\n",
              "      <td>1.000000</td>\n",
              "    </tr>\n",
              "    <tr>\n",
              "      <th>max</th>\n",
              "      <td>17.000000</td>\n",
              "      <td>199.000000</td>\n",
              "      <td>122.000000</td>\n",
              "      <td>99.000000</td>\n",
              "      <td>846.000000</td>\n",
              "      <td>67.100000</td>\n",
              "      <td>2.420000</td>\n",
              "      <td>81.000000</td>\n",
              "      <td>1.000000</td>\n",
              "    </tr>\n",
              "  </tbody>\n",
              "</table>\n",
              "</div>"
            ],
            "text/plain": [
              "       Pregnancies     Glucose  ...         Age     Outcome\n",
              "count   768.000000  768.000000  ...  768.000000  768.000000\n",
              "mean      3.845052  120.894531  ...   33.240885    0.348958\n",
              "std       3.369578   31.972618  ...   11.760232    0.476951\n",
              "min       0.000000    0.000000  ...   21.000000    0.000000\n",
              "25%       1.000000   99.000000  ...   24.000000    0.000000\n",
              "50%       3.000000  117.000000  ...   29.000000    0.000000\n",
              "75%       6.000000  140.250000  ...   41.000000    1.000000\n",
              "max      17.000000  199.000000  ...   81.000000    1.000000\n",
              "\n",
              "[8 rows x 9 columns]"
            ]
          },
          "metadata": {
            "tags": []
          },
          "execution_count": 11
        }
      ]
    },
    {
      "cell_type": "code",
      "metadata": {
        "colab": {
          "base_uri": "https://localhost:8080/",
          "height": 607
        },
        "id": "FQ9AjJKn0uVd",
        "outputId": "e1de4446-588c-482c-97b1-de5c0066b905"
      },
      "source": [
        "# x-axis range , y-axis abundance\n",
        "histo = df.hist(figsize = (10,10))\n"
      ],
      "execution_count": 12,
      "outputs": [
        {
          "output_type": "display_data",
          "data": {
            "image/png": "[encoded data removed]",
            "text/plain": [
              "<Figure size 720x720 with 9 Axes>"
            ]
          },
          "metadata": {
            "tags": [],
            "needs_background": "light"
          }
        }
      ]
    },
    {
      "cell_type": "code",
      "metadata": {
        "colab": {
          "base_uri": "https://localhost:8080/"
        },
        "id": "bW3winZ60uVe",
        "outputId": "e65cf288-c0f4-4973-aa99-21212ff84141"
      },
      "source": [
        "## count of zero entries \n",
        "bp_zeros=df[df['BloodPressure']==0].shape\n",
        "bmi_zeros=df[df['BMI']==0].shape\n",
        "insulin_zeros=df[df['Insulin']==0].shape\n",
        "glucose_zeros=df[df['Glucose']==0].shape\n",
        "skin_zeros=df[df['SkinThickness']==0].shape\n",
        "print('Zero Counts of BP :{},BMI : {} , Insulin : {} , Glucose : {} , skin : {} '\n",
        "      .format(bp_zeros,bmi_zeros,insulin_zeros,glucose_zeros,skin_zeros))"
      ],
      "execution_count": 13,
      "outputs": [
        {
          "output_type": "stream",
          "text": [
            "Zero Counts of BP :(35, 9),BMI : (11, 9) , Insulin : (374, 9) , Glucose : (5, 9) , skin : (227, 9) \n"
          ],
          "name": "stdout"
        }
      ]
    },
    {
      "cell_type": "code",
      "metadata": {
        "id": "rtwN-fgG0uVf"
      },
      "source": [
        "#### pre-process Insulin & SkinThickness \n",
        "\n",
        "df_copy=df.copy(deep=True)\n",
        "## replace 0 with NaN to fill out easily\n",
        "\n",
        "df_copy[['Insulin','SkinThickness']]=df_copy[['Insulin','SkinThickness']].replace(0,np.NaN)\n",
        "## The median is the middle point of a number set, in which half the numbers are above the median and half are below\n",
        "## replace null value with median\n",
        "df_copy['Insulin'].fillna(df_copy['Insulin'].median(),inplace=True)\n",
        "df_copy['SkinThickness'].fillna(df_copy['SkinThickness'].median(),inplace=True)\n",
        "## test result\n",
        "# print(df_copy[df_copy['Insulin']==0].shape,df_copy[df_copy['SkinThickness']==0].shape)\n"
      ],
      "execution_count": 14,
      "outputs": []
    },
    {
      "cell_type": "code",
      "metadata": {
        "id": "aOPQ8IuB0uVi"
      },
      "source": [
        "# pre-process Blood Pressure , BMI & Glucose invalid values \n",
        "# as blood pressure & glucose are critical for determing diabeties it should not be invalid \n",
        "# their null fraction is very small so it should better to remove invalid entries\n",
        "df_copy=df_copy[(df_copy['BloodPressure']!=0) & (df_copy['BMI']!=0) & (df_copy['Glucose']!=0)]\n",
        "# test result\n",
        "# print(df_copy[df_copy['BloodPressure']==0].shape,df_copy[df_copy['BMI']==0].shape,df_copy[df_copy['Glucose']==0].shape)\n"
      ],
      "execution_count": 15,
      "outputs": []
    },
    {
      "cell_type": "code",
      "metadata": {
        "colab": {
          "base_uri": "https://localhost:8080/"
        },
        "id": "MnxOQfOW0uVm",
        "outputId": "2c987281-c80a-470f-c289-89ab954a243d"
      },
      "source": [
        "## split dataset on outcome from 70% to 30%\n",
        "X=df_copy.drop('Outcome',axis=1)\n",
        "y=df_copy['Outcome']\n",
        "X_train,X_test,y_train,y_test=train_test_split(X,y,test_size=0.30,random_state=10)\n",
        "print(X_train.shape)\n",
        "print(X_test.shape)\n",
        "print(y_train.shape)\n",
        "print(y_test.shape)"
      ],
      "execution_count": 16,
      "outputs": [
        {
          "output_type": "stream",
          "text": [
            "(506, 8)\n",
            "(218, 8)\n",
            "(506,)\n",
            "(218,)\n"
          ],
          "name": "stdout"
        }
      ]
    },
    {
      "cell_type": "code",
      "metadata": {
        "id": "z_INySfE0uVn"
      },
      "source": [
        "\n",
        "naive=GaussianNB()\n",
        "naive.fit(X_train,y_train)\n",
        "predicted_naive=naive.predict(X_test)\n",
        "cm_naive=metrics.confusion_matrix(y_test,predicted_naive)\n",
        "accuracy_naive=metrics.accuracy_score(y_test,predicted_naive)"
      ],
      "execution_count": 48,
      "outputs": []
    },
    {
      "cell_type": "code",
      "metadata": {
        "colab": {
          "base_uri": "https://localhost:8080/",
          "height": 279
        },
        "id": "Q7gvWhNO0uVo",
        "outputId": "f4baf02e-1c65-4fb3-fcff-e399f8128694"
      },
      "source": [
        "plot_confusion_matrix(naive, X_test, y_test)  \r\n",
        "plt.show() "
      ],
      "execution_count": 29,
      "outputs": [
        {
          "output_type": "display_data",
          "data": {
            "image/png": "[encoded data removed]",
            "text/plain": [
              "<Figure size 432x288 with 2 Axes>"
            ]
          },
          "metadata": {
            "tags": [],
            "needs_background": "light"
          }
        }
      ]
    },
    {
      "cell_type": "code",
      "metadata": {
        "colab": {
          "base_uri": "https://localhost:8080/"
        },
        "id": "Yff2KUga0uVp",
        "outputId": "f65a02c5-1734-494b-dfb5-ac811eee97db"
      },
      "source": [
        "print(\"Confusion Matrix : \\n {}  \\n Accuracy : \\n {} \".format(cm_naive,accuracy_naive))\n",
        "# Accuracy : 0.7752293577981652\n",
        "average_precision = average_precision_score(y_test, predicted_naive)\n",
        "print(average_precision)"
      ],
      "execution_count": 49,
      "outputs": [
        {
          "output_type": "stream",
          "text": [
            "Confusion Matrix : \n",
            " [[125  15]\n",
            " [ 34  44]]  \n",
            " Accuracy : \n",
            " 0.7752293577981652 \n",
            "0.5766499607270872\n"
          ],
          "name": "stdout"
        }
      ]
    },
    {
      "cell_type": "code",
      "metadata": {
        "id": "KgalkoQV0uVr"
      },
      "source": [
        "#  KNN Implementation \n",
        "knn=KNeighborsClassifier(n_neighbors=11)\n",
        "knn.fit(X_train,y_train)\n",
        "predicted_knn=knn.predict(X_test)\n",
        "cm_knn=metrics.confusion_matrix(y_test,predicted_knn)\n",
        "accuracy_knn=metrics.accuracy_score(y_test,predicted_knn)\n"
      ],
      "execution_count": 50,
      "outputs": []
    },
    {
      "cell_type": "code",
      "metadata": {
        "colab": {
          "base_uri": "https://localhost:8080/",
          "height": 279
        },
        "id": "-iPvA4Ul2dT6",
        "outputId": "3c28c0a1-62b4-402d-b935-d7b0c6eab386"
      },
      "source": [
        "plot_confusion_matrix(knn, X_test, y_test)  \r\n",
        "plt.show() "
      ],
      "execution_count": 34,
      "outputs": [
        {
          "output_type": "display_data",
          "data": {
            "image/png": "[encoded data removed]",
            "text/plain": [
              "<Figure size 432x288 with 2 Axes>"
            ]
          },
          "metadata": {
            "tags": [],
            "needs_background": "light"
          }
        }
      ]
    },
    {
      "cell_type": "code",
      "metadata": {
        "colab": {
          "base_uri": "https://localhost:8080/"
        },
        "id": "1t8_VvPA0uVu",
        "outputId": "b39b145f-1e8f-4739-a867-c7feb98c1ce0"
      },
      "source": [
        "print(\"Confusion Matrix : \\n {}  \\n Accuracy :  {} \".format(cm_knn,accuracy_knn))"
      ],
      "execution_count": 51,
      "outputs": [
        {
          "output_type": "stream",
          "text": [
            "Confusion Matrix : \n",
            " [[127  13]\n",
            " [ 37  41]]  \n",
            " Accuracy :  0.7706422018348624 \n"
          ],
          "name": "stdout"
        }
      ]
    },
    {
      "cell_type": "code",
      "metadata": {
        "colab": {
          "base_uri": "https://localhost:8080/"
        },
        "id": "Y6WnIc310uVv",
        "outputId": "b3b8c225-4c72-4d26-ef77-72baef857f58"
      },
      "source": [
        "# k=3 (accuracy  0.7385321100917431) k=5 ( Accuracy :0.7522935779816514 ) \n",
        "# k=11 (Accuracy :  0.7706422018348624) k=13 ( Accuracy :  0.7614678899082569 )\n",
        "average_precision = average_precision_score(y_test, predicted_knn)\n",
        "print(average_precision)"
      ],
      "execution_count": 43,
      "outputs": [
        {
          "output_type": "stream",
          "text": [
            "0.5688225864066843\n"
          ],
          "name": "stdout"
        }
      ]
    },
    {
      "cell_type": "code",
      "metadata": {
        "id": "wX74927Q0uVx"
      },
      "source": [
        "# decision tree\n",
        "d_tree=tree.DecisionTreeClassifier()\n",
        "d_tree.fit(X_train,y_train)\n",
        "predicted_tree=d_tree.predict(X_test)\n",
        "accuracy_tree=metrics.accuracy_score(y_test,predicted_tree)\n",
        "cm_dt=metrics.confusion_matrix(y_test,predicted_tree)"
      ],
      "execution_count": 52,
      "outputs": []
    },
    {
      "cell_type": "code",
      "metadata": {
        "colab": {
          "base_uri": "https://localhost:8080/"
        },
        "id": "DVEBq4AK0ubt",
        "outputId": "093a425e-df25-4848-c1c6-ce515c734ee2"
      },
      "source": [
        "print(\"Confusion Matrix : \\n {}  \\n Accuracy :  {} \".format(cm_dt,accuracy_tree))\n",
        "# 0.6972477064220184"
      ],
      "execution_count": 53,
      "outputs": [
        {
          "output_type": "stream",
          "text": [
            "Confusion Matrix : \n",
            " [[110  30]\n",
            " [ 41  37]]  \n",
            " Accuracy :  0.6743119266055045 \n"
          ],
          "name": "stdout"
        }
      ]
    },
    {
      "cell_type": "code",
      "metadata": {
        "colab": {
          "base_uri": "https://localhost:8080/"
        },
        "id": "u-n4VtiF0ub2",
        "outputId": "59b087ec-9d4b-485e-c245-f98ab90abf50"
      },
      "source": [
        "average_precision = average_precision_score(y_test, predicted_tree)\r\n",
        "print(average_precision)"
      ],
      "execution_count": 42,
      "outputs": [
        {
          "output_type": "stream",
          "text": [
            "0.45747051114023596\n"
          ],
          "name": "stdout"
        }
      ]
    },
    {
      "cell_type": "code",
      "metadata": {
        "colab": {
          "base_uri": "https://localhost:8080/"
        },
        "id": "YjSBmMzu0ub4",
        "outputId": "21115d54-789d-4caa-a7f5-71591d91646c"
      },
      "source": [
        "# Logistic regression\n",
        "logisticRegr= LogisticRegression()\n",
        "logisticRegr.fit(X_train,y_train)\n",
        "predict_lg = logisticRegr.predict(X_test)\n",
        "accuarcy_lg=metrics.accuracy_score(y_test,predict_lg)\n",
        "cm_lg=metrics.confusion_matrix(y_test,predict_lg)\n"
      ],
      "execution_count": 56,
      "outputs": [
        {
          "output_type": "stream",
          "text": [
            "/usr/local/lib/python3.7/dist-packages/sklearn/linear_model/_logistic.py:940: ConvergenceWarning: lbfgs failed to converge (status=1):\n",
            "STOP: TOTAL NO. of ITERATIONS REACHED LIMIT.\n",
            "\n",
            "Increase the number of iterations (max_iter) or scale the data as shown in:\n",
            "    https://scikit-learn.org/stable/modules/preprocessing.html\n",
            "Please also refer to the documentation for alternative solver options:\n",
            "    https://scikit-learn.org/stable/modules/linear_model.html#logistic-regression\n",
            "  extra_warning_msg=_LOGISTIC_SOLVER_CONVERGENCE_MSG)\n"
          ],
          "name": "stderr"
        }
      ]
    },
    {
      "cell_type": "code",
      "metadata": {
        "colab": {
          "base_uri": "https://localhost:8080/"
        },
        "id": "MGuzDl3J0ucB",
        "outputId": "51db4859-46e4-4d84-a1ae-731aee0677a1"
      },
      "source": [
        "print(\"Confusion Matrix : \\n {}  \\n Accuracy :  {} \".format(cm_lg,accuarcy_lg))\n",
        "#0.7752293577981652\n",
        "average_precision = average_precision_score(y_test, predict_lg)\n",
        "print(average_precision)"
      ],
      "execution_count": 58,
      "outputs": [
        {
          "output_type": "stream",
          "text": [
            "Confusion Matrix : \n",
            " [[130  10]\n",
            " [ 38  40]]  \n",
            " Accuracy :  0.7798165137614679 \n",
            "0.5845683368619149\n"
          ],
          "name": "stdout"
        }
      ]
    },
    {
      "cell_type": "code",
      "metadata": {
        "id": "Ram6m3CS0ucH"
      },
      "source": [
        "# LDA\n",
        "lda=LinearDiscriminantAnalysis()\n",
        "lda.fit(X_train,y_train)\n",
        "predict_lda=lda.predict(X_test)\n",
        "accuracy_lda=metrics.accuracy_score(y_test,predict_lda)\n",
        "cm_lda=metrics.confusion_matrix(y_test,predict_lda)"
      ],
      "execution_count": 59,
      "outputs": []
    },
    {
      "cell_type": "code",
      "metadata": {
        "colab": {
          "base_uri": "https://localhost:8080/"
        },
        "id": "86hpQ4TB0ucK",
        "outputId": "4bf4a987-18ea-430f-a16e-b267f739f339"
      },
      "source": [
        "print(\"Confusion Matrix : \\n {}  \\n Accuracy :  {} \".format(cm_lda,accuracy_lda))\n",
        "# 0.7798165137614679"
      ],
      "execution_count": 60,
      "outputs": [
        {
          "output_type": "stream",
          "text": [
            "Confusion Matrix : \n",
            " [[131   9]\n",
            " [ 39  39]]  \n",
            " Accuracy :  0.7798165137614679 \n"
          ],
          "name": "stdout"
        }
      ]
    },
    {
      "cell_type": "code",
      "metadata": {
        "colab": {
          "base_uri": "https://localhost:8080/"
        },
        "id": "2GeUQJiM6RPv",
        "outputId": "fcccd634-e87e-451b-96b1-c818482e1a30"
      },
      "source": [
        "\r\n",
        "average_precision = average_precision_score(y_test, predict_lda)\r\n",
        "print(average_precision)"
      ],
      "execution_count": 39,
      "outputs": [
        {
          "output_type": "stream",
          "text": [
            "0.5851490825688074\n"
          ],
          "name": "stdout"
        }
      ]
    }
  ]
}